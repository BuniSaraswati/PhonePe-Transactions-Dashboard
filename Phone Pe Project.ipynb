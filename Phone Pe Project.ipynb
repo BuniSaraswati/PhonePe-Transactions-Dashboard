{
 "cells": [
  {
   "cell_type": "code",
   "execution_count": 1,
   "id": "c1bbe86a",
   "metadata": {},
   "outputs": [],
   "source": [
    "import os\n",
    "import json\n",
    "import pandas as pd"
   ]
  },
  {
   "cell_type": "markdown",
   "id": "8f54bb68",
   "metadata": {},
   "source": [
    "###  path to the 'india' directory"
   ]
  },
  {
   "cell_type": "code",
   "execution_count": 2,
   "id": "09541a32",
   "metadata": {},
   "outputs": [],
   "source": [
    "india_data_path = r'C:\\Users\\KIIT\\Documents\\13_File\\india'"
   ]
  },
  {
   "cell_type": "markdown",
   "id": "9299995f",
   "metadata": {},
   "source": [
    "###  Function to process JSON data from a given file path"
   ]
  },
  {
   "cell_type": "code",
   "execution_count": 3,
   "id": "735f50a1",
   "metadata": {},
   "outputs": [],
   "source": [
    "def process_json_file(json_path):\n",
    "    with open(json_path, 'r') as f:\n",
    "        json_data = json.load(f)\n",
    "        return json_data"
   ]
  },
  {
   "cell_type": "markdown",
   "id": "f3ca05f7",
   "metadata": {},
   "source": [
    "### Lists to store data"
   ]
  },
  {
   "cell_type": "code",
   "execution_count": 4,
   "id": "8535e3ec",
   "metadata": {},
   "outputs": [],
   "source": [
    "data_list = []"
   ]
  },
  {
   "cell_type": "markdown",
   "id": "4468bf46",
   "metadata": {},
   "source": [
    "### Traverse through directories"
   ]
  },
  {
   "cell_type": "code",
   "execution_count": 5,
   "id": "ed32964a",
   "metadata": {},
   "outputs": [],
   "source": [
    "for root, dirs, files in os.walk(india_data_path):\n",
    "    for file in files:\n",
    "        if file.endswith('.json'):\n",
    "            json_path = os.path.join(root, file)\n",
    "            json_data = process_json_file(json_path)\n",
    "            data_list.append(json_data['data']['transactionData'])"
   ]
  },
  {
   "cell_type": "markdown",
   "id": "bd1cbc7c",
   "metadata": {},
   "source": [
    "### Extract relevant information and create a DataFrame"
   ]
  },
  {
   "cell_type": "code",
   "execution_count": 6,
   "id": "091e1498",
   "metadata": {},
   "outputs": [],
   "source": [
    "data_records = []\n",
    "for transaction_data in data_list:\n",
    "    for category_data in transaction_data:\n",
    "        category_name = category_data['name']\n",
    "        payment_instruments = category_data['paymentInstruments']\n",
    "\n",
    "        for instrument in payment_instruments:\n",
    "            instrument_type = instrument['type']\n",
    "            count = instrument['count']\n",
    "            amount = instrument['amount']\n",
    "\n",
    "            data_records.append({\n",
    "                'Category': category_name,\n",
    "                'Instrument Type': instrument_type,\n",
    "                'Count': count,\n",
    "                'Amount': amount\n",
    "            })"
   ]
  },
  {
   "cell_type": "markdown",
   "id": "9fa416a2",
   "metadata": {},
   "source": [
    "### Create a DataFrame"
   ]
  },
  {
   "cell_type": "code",
   "execution_count": 7,
   "id": "eeb2d7a6",
   "metadata": {},
   "outputs": [],
   "source": [
    "df = pd.DataFrame(data_records)"
   ]
  },
  {
   "cell_type": "markdown",
   "id": "6e441e54",
   "metadata": {},
   "source": [
    "### Display the DataFrame"
   ]
  },
  {
   "cell_type": "code",
   "execution_count": 8,
   "id": "527456cd",
   "metadata": {},
   "outputs": [
    {
     "name": "stdout",
     "output_type": "stream",
     "text": [
      "                      Category Instrument Type      Count        Amount\n",
      "0     Recharge & bill payments           TOTAL   72550406  1.447271e+10\n",
      "1        Peer-to-peer payments           TOTAL   46982705  1.472459e+11\n",
      "2            Merchant payments           TOTAL    5368669  4.656679e+09\n",
      "3           Financial Services           TOTAL    3762820  8.158531e+08\n",
      "4                       Others           TOTAL    5761576  4.643217e+09\n",
      "...                        ...             ...        ...           ...\n",
      "3134     Peer-to-peer payments           TOTAL  124787028  4.463437e+11\n",
      "3135         Merchant payments           TOTAL   97315025  8.585473e+10\n",
      "3136  Recharge & bill payments           TOTAL   37317865  1.843542e+10\n",
      "3137        Financial Services           TOTAL     239530  2.610966e+08\n",
      "3138                    Others           TOTAL     845644  5.316713e+08\n",
      "\n",
      "[3139 rows x 4 columns]\n"
     ]
    }
   ],
   "source": [
    "print(df)"
   ]
  },
  {
   "cell_type": "code",
   "execution_count": 9,
   "id": "813d995a",
   "metadata": {},
   "outputs": [
    {
     "name": "stdout",
     "output_type": "stream",
     "text": [
      "<class 'pandas.core.frame.DataFrame'>\n",
      "RangeIndex: 3139 entries, 0 to 3138\n",
      "Data columns (total 4 columns):\n",
      " #   Column           Non-Null Count  Dtype  \n",
      "---  ------           --------------  -----  \n",
      " 0   Category         3139 non-null   object \n",
      " 1   Instrument Type  3139 non-null   object \n",
      " 2   Count            3139 non-null   int64  \n",
      " 3   Amount           3139 non-null   float64\n",
      "dtypes: float64(1), int64(1), object(2)\n",
      "memory usage: 98.2+ KB\n"
     ]
    }
   ],
   "source": [
    "df.info()"
   ]
  },
  {
   "cell_type": "markdown",
   "id": "587228db",
   "metadata": {},
   "source": [
    "### Explore unique categories and instrument types"
   ]
  },
  {
   "cell_type": "code",
   "execution_count": 10,
   "id": "2de83f3b",
   "metadata": {},
   "outputs": [],
   "source": [
    "unique_categories = df['Category'].unique()\n",
    "unique_instrument_types = df['Instrument Type'].unique()"
   ]
  },
  {
   "cell_type": "code",
   "execution_count": 11,
   "id": "c7e0eb69",
   "metadata": {},
   "outputs": [
    {
     "data": {
      "text/html": [
       "<div>\n",
       "<style scoped>\n",
       "    .dataframe tbody tr th:only-of-type {\n",
       "        vertical-align: middle;\n",
       "    }\n",
       "\n",
       "    .dataframe tbody tr th {\n",
       "        vertical-align: top;\n",
       "    }\n",
       "\n",
       "    .dataframe thead th {\n",
       "        text-align: right;\n",
       "    }\n",
       "</style>\n",
       "<table border=\"1\" class=\"dataframe\">\n",
       "  <thead>\n",
       "    <tr style=\"text-align: right;\">\n",
       "      <th></th>\n",
       "      <th>Count</th>\n",
       "      <th>Amount</th>\n",
       "    </tr>\n",
       "  </thead>\n",
       "  <tbody>\n",
       "    <tr>\n",
       "      <th>count</th>\n",
       "      <td>3.139000e+03</td>\n",
       "      <td>3.139000e+03</td>\n",
       "    </tr>\n",
       "    <tr>\n",
       "      <th>mean</th>\n",
       "      <td>2.549581e+07</td>\n",
       "      <td>4.484193e+10</td>\n",
       "    </tr>\n",
       "    <tr>\n",
       "      <th>std</th>\n",
       "      <td>1.548667e+08</td>\n",
       "      <td>3.587787e+11</td>\n",
       "    </tr>\n",
       "    <tr>\n",
       "      <th>min</th>\n",
       "      <td>2.000000e+00</td>\n",
       "      <td>3.439721e+01</td>\n",
       "    </tr>\n",
       "    <tr>\n",
       "      <th>25%</th>\n",
       "      <td>3.979650e+04</td>\n",
       "      <td>2.478298e+07</td>\n",
       "    </tr>\n",
       "    <tr>\n",
       "      <th>50%</th>\n",
       "      <td>3.474940e+05</td>\n",
       "      <td>2.719435e+08</td>\n",
       "    </tr>\n",
       "    <tr>\n",
       "      <th>75%</th>\n",
       "      <td>5.771628e+06</td>\n",
       "      <td>4.904488e+09</td>\n",
       "    </tr>\n",
       "    <tr>\n",
       "      <th>max</th>\n",
       "      <td>3.748851e+09</td>\n",
       "      <td>1.050594e+13</td>\n",
       "    </tr>\n",
       "  </tbody>\n",
       "</table>\n",
       "</div>"
      ],
      "text/plain": [
       "              Count        Amount\n",
       "count  3.139000e+03  3.139000e+03\n",
       "mean   2.549581e+07  4.484193e+10\n",
       "std    1.548667e+08  3.587787e+11\n",
       "min    2.000000e+00  3.439721e+01\n",
       "25%    3.979650e+04  2.478298e+07\n",
       "50%    3.474940e+05  2.719435e+08\n",
       "75%    5.771628e+06  4.904488e+09\n",
       "max    3.748851e+09  1.050594e+13"
      ]
     },
     "execution_count": 11,
     "metadata": {},
     "output_type": "execute_result"
    }
   ],
   "source": [
    "df.describe()"
   ]
  },
  {
   "cell_type": "markdown",
   "id": "217255c1",
   "metadata": {},
   "source": [
    "### Check for missing values"
   ]
  },
  {
   "cell_type": "code",
   "execution_count": 12,
   "id": "e56fecdd",
   "metadata": {},
   "outputs": [
    {
     "data": {
      "text/plain": [
       "Category           0.0\n",
       "Instrument Type    0.0\n",
       "Count              0.0\n",
       "Amount             0.0\n",
       "dtype: float64"
      ]
     },
     "execution_count": 12,
     "metadata": {},
     "output_type": "execute_result"
    }
   ],
   "source": [
    "df.isnull().sum() / df.shape[0] * 100"
   ]
  },
  {
   "cell_type": "code",
   "execution_count": 13,
   "id": "d64ca163",
   "metadata": {},
   "outputs": [],
   "source": [
    "missing_values = df.isnull().sum()"
   ]
  },
  {
   "cell_type": "code",
   "execution_count": 14,
   "id": "d88d322c",
   "metadata": {},
   "outputs": [
    {
     "data": {
      "text/plain": [
       "Category              5\n",
       "Instrument Type       1\n",
       "Count              3101\n",
       "Amount             3139\n",
       "dtype: int64"
      ]
     },
     "execution_count": 14,
     "metadata": {},
     "output_type": "execute_result"
    }
   ],
   "source": [
    "df.nunique()"
   ]
  },
  {
   "cell_type": "markdown",
   "id": "690dfaab",
   "metadata": {},
   "source": [
    "### Print summary of data exploration and cleaning"
   ]
  },
  {
   "cell_type": "code",
   "execution_count": 15,
   "id": "305f083a",
   "metadata": {},
   "outputs": [
    {
     "name": "stdout",
     "output_type": "stream",
     "text": [
      "Unique Categories: ['Recharge & bill payments' 'Peer-to-peer payments' 'Merchant payments'\n",
      " 'Financial Services' 'Others']\n",
      "Unique Instrument Types: ['TOTAL']\n",
      "Missing Values:\n",
      " Category           0\n",
      "Instrument Type    0\n",
      "Count              0\n",
      "Amount             0\n",
      "dtype: int64\n"
     ]
    }
   ],
   "source": [
    "print(\"Unique Categories:\", unique_categories)\n",
    "print(\"Unique Instrument Types:\", unique_instrument_types)\n",
    "print(\"Missing Values:\\n\", missing_values)"
   ]
  },
  {
   "cell_type": "code",
   "execution_count": 16,
   "id": "d2426b37",
   "metadata": {},
   "outputs": [
    {
     "data": {
      "text/html": [
       "<div>\n",
       "<style scoped>\n",
       "    .dataframe tbody tr th:only-of-type {\n",
       "        vertical-align: middle;\n",
       "    }\n",
       "\n",
       "    .dataframe tbody tr th {\n",
       "        vertical-align: top;\n",
       "    }\n",
       "\n",
       "    .dataframe thead th {\n",
       "        text-align: right;\n",
       "    }\n",
       "</style>\n",
       "<table border=\"1\" class=\"dataframe\">\n",
       "  <thead>\n",
       "    <tr style=\"text-align: right;\">\n",
       "      <th></th>\n",
       "      <th>Category</th>\n",
       "      <th>Instrument Type</th>\n",
       "      <th>Count</th>\n",
       "      <th>Amount</th>\n",
       "    </tr>\n",
       "  </thead>\n",
       "  <tbody>\n",
       "    <tr>\n",
       "      <th>0</th>\n",
       "      <td>Recharge &amp; bill payments</td>\n",
       "      <td>TOTAL</td>\n",
       "      <td>72550406</td>\n",
       "      <td>1.447271e+10</td>\n",
       "    </tr>\n",
       "    <tr>\n",
       "      <th>1</th>\n",
       "      <td>Peer-to-peer payments</td>\n",
       "      <td>TOTAL</td>\n",
       "      <td>46982705</td>\n",
       "      <td>1.472459e+11</td>\n",
       "    </tr>\n",
       "    <tr>\n",
       "      <th>2</th>\n",
       "      <td>Merchant payments</td>\n",
       "      <td>TOTAL</td>\n",
       "      <td>5368669</td>\n",
       "      <td>4.656679e+09</td>\n",
       "    </tr>\n",
       "    <tr>\n",
       "      <th>3</th>\n",
       "      <td>Financial Services</td>\n",
       "      <td>TOTAL</td>\n",
       "      <td>3762820</td>\n",
       "      <td>8.158531e+08</td>\n",
       "    </tr>\n",
       "    <tr>\n",
       "      <th>4</th>\n",
       "      <td>Others</td>\n",
       "      <td>TOTAL</td>\n",
       "      <td>5761576</td>\n",
       "      <td>4.643217e+09</td>\n",
       "    </tr>\n",
       "  </tbody>\n",
       "</table>\n",
       "</div>"
      ],
      "text/plain": [
       "                   Category Instrument Type     Count        Amount\n",
       "0  Recharge & bill payments           TOTAL  72550406  1.447271e+10\n",
       "1     Peer-to-peer payments           TOTAL  46982705  1.472459e+11\n",
       "2         Merchant payments           TOTAL   5368669  4.656679e+09\n",
       "3        Financial Services           TOTAL   3762820  8.158531e+08\n",
       "4                    Others           TOTAL   5761576  4.643217e+09"
      ]
     },
     "execution_count": 16,
     "metadata": {},
     "output_type": "execute_result"
    }
   ],
   "source": [
    "df.head()"
   ]
  },
  {
   "cell_type": "code",
   "execution_count": 17,
   "id": "510bcb0b",
   "metadata": {},
   "outputs": [
    {
     "name": "stdout",
     "output_type": "stream",
     "text": [
      "TOTAL    3139\n",
      "Name: Instrument Type, dtype: int64\n"
     ]
    }
   ],
   "source": [
    "instrument_type_counts = df['Instrument Type'].value_counts()\n",
    "print(instrument_type_counts)"
   ]
  },
  {
   "cell_type": "code",
   "execution_count": 18,
   "id": "39323682",
   "metadata": {},
   "outputs": [],
   "source": [
    "df.drop(['Instrument Type'], axis=1, inplace=True)"
   ]
  },
  {
   "cell_type": "code",
   "execution_count": 19,
   "id": "0dc883de",
   "metadata": {},
   "outputs": [
    {
     "name": "stdout",
     "output_type": "stream",
     "text": [
      "                      Category      Count        Amount\n",
      "0     Recharge & bill payments   72550406  1.447271e+10\n",
      "1        Peer-to-peer payments   46982705  1.472459e+11\n",
      "2            Merchant payments    5368669  4.656679e+09\n",
      "3           Financial Services    3762820  8.158531e+08\n",
      "4                       Others    5761576  4.643217e+09\n",
      "...                        ...        ...           ...\n",
      "3134     Peer-to-peer payments  124787028  4.463437e+11\n",
      "3135         Merchant payments   97315025  8.585473e+10\n",
      "3136  Recharge & bill payments   37317865  1.843542e+10\n",
      "3137        Financial Services     239530  2.610966e+08\n",
      "3138                    Others     845644  5.316713e+08\n",
      "\n",
      "[3139 rows x 3 columns]\n"
     ]
    }
   ],
   "source": [
    "print(df)"
   ]
  },
  {
   "cell_type": "markdown",
   "id": "a932b6d4",
   "metadata": {},
   "source": [
    "## Data Visualization:"
   ]
  },
  {
   "cell_type": "code",
   "execution_count": 20,
   "id": "73a89040",
   "metadata": {},
   "outputs": [],
   "source": [
    "import matplotlib.pyplot as plt\n",
    "import seaborn as sns"
   ]
  },
  {
   "cell_type": "code",
   "execution_count": 21,
   "id": "66239ae4",
   "metadata": {},
   "outputs": [],
   "source": [
    "pastel_palette = sns.color_palette(\"pastel\")"
   ]
  },
  {
   "cell_type": "markdown",
   "id": "dc3c8301",
   "metadata": {},
   "source": [
    "### Plot count of transactions by category using a bar plot"
   ]
  },
  {
   "cell_type": "code",
   "execution_count": 22,
   "id": "68f1c7ba",
   "metadata": {},
   "outputs": [
    {
     "data": {
      "image/png": "[encoded data removed]",
      "text/plain": [
       "<Figure size 1000x600 with 1 Axes>"
      ]
     },
     "metadata": {},
     "output_type": "display_data"
    }
   ],
   "source": [
    "plt.figure(figsize=(10, 6))\n",
    "sns.barplot(x='Category', y='Count', data=df, palette=pastel_palette)\n",
    "plt.xticks(rotation=45, ha='right')\n",
    "plt.title(\"Count of Transactions by Category\")\n",
    "plt.tight_layout()\n",
    "plt.show()"
   ]
  },
  {
   "cell_type": "markdown",
   "id": "37de092d",
   "metadata": {},
   "source": [
    "## Building the Dashboard:"
   ]
  },
  {
   "cell_type": "code",
   "execution_count": 23,
   "id": "66fbcffa",
   "metadata": {},
   "outputs": [
    {
     "name": "stdout",
     "output_type": "stream",
     "text": [
      "Requirement already satisfied: dash in c:\\users\\kiit\\anaconda3\\lib\\site-packages (2.12.1)\n",
      "Requirement already satisfied: ansi2html in c:\\users\\kiit\\anaconda3\\lib\\site-packages (from dash) (1.8.0)\n",
      "Requirement already satisfied: nest-asyncio in c:\\users\\kiit\\anaconda3\\lib\\site-packages (from dash) (1.5.6)\n",
      "Requirement already satisfied: dash-table==5.0.0 in c:\\users\\kiit\\anaconda3\\lib\\site-packages (from dash) (5.0.0)\n",
      "Requirement already satisfied: typing-extensions>=4.1.1 in c:\\users\\kiit\\anaconda3\\lib\\site-packages (from dash) (4.4.0)\n",
      "Requirement already satisfied: requests in c:\\users\\kiit\\anaconda3\\lib\\site-packages (from dash) (2.28.1)\n",
      "Requirement already satisfied: Werkzeug<2.3.0 in c:\\users\\kiit\\anaconda3\\lib\\site-packages (from dash) (2.2.2)\n",
      "Requirement already satisfied: dash-html-components==2.0.0 in c:\\users\\kiit\\anaconda3\\lib\\site-packages (from dash) (2.0.0)\n",
      "Requirement already satisfied: retrying in c:\\users\\kiit\\anaconda3\\lib\\site-packages (from dash) (1.3.4)\n",
      "Requirement already satisfied: setuptools in c:\\users\\kiit\\anaconda3\\lib\\site-packages (from dash) (65.6.3)\n",
      "Requirement already satisfied: dash-core-components==2.0.0 in c:\\users\\kiit\\anaconda3\\lib\\site-packages (from dash) (2.0.0)\n",
      "Requirement already satisfied: Flask<2.3.0,>=1.0.4 in c:\\users\\kiit\\anaconda3\\lib\\site-packages (from dash) (2.2.2)\n",
      "Requirement already satisfied: plotly>=5.0.0 in c:\\users\\kiit\\anaconda3\\lib\\site-packages (from dash) (5.9.0)\n",
      "Requirement already satisfied: itsdangerous>=2.0 in c:\\users\\kiit\\anaconda3\\lib\\site-packages (from Flask<2.3.0,>=1.0.4->dash) (2.0.1)\n",
      "Requirement already satisfied: click>=8.0 in c:\\users\\kiit\\anaconda3\\lib\\site-packages (from Flask<2.3.0,>=1.0.4->dash) (8.0.4)\n",
      "Requirement already satisfied: Jinja2>=3.0 in c:\\users\\kiit\\anaconda3\\lib\\site-packages (from Flask<2.3.0,>=1.0.4->dash) (3.1.2)\n",
      "Requirement already satisfied: tenacity>=6.2.0 in c:\\users\\kiit\\anaconda3\\lib\\site-packages (from plotly>=5.0.0->dash) (8.0.1)\n",
      "Requirement already satisfied: MarkupSafe>=2.1.1 in c:\\users\\kiit\\anaconda3\\lib\\site-packages (from Werkzeug<2.3.0->dash) (2.1.1)\n",
      "Requirement already satisfied: certifi>=2017.4.17 in c:\\users\\kiit\\anaconda3\\lib\\site-packages (from requests->dash) (2022.12.7)\n",
      "Requirement already satisfied: urllib3<1.27,>=1.21.1 in c:\\users\\kiit\\anaconda3\\lib\\site-packages (from requests->dash) (1.26.14)\n",
      "Requirement already satisfied: idna<4,>=2.5 in c:\\users\\kiit\\anaconda3\\lib\\site-packages (from requests->dash) (3.4)\n",
      "Requirement already satisfied: charset-normalizer<3,>=2 in c:\\users\\kiit\\anaconda3\\lib\\site-packages (from requests->dash) (2.0.4)\n",
      "Requirement already satisfied: six>=1.7.0 in c:\\users\\kiit\\anaconda3\\lib\\site-packages (from retrying->dash) (1.16.0)\n",
      "Requirement already satisfied: colorama in c:\\users\\kiit\\anaconda3\\lib\\site-packages (from click>=8.0->Flask<2.3.0,>=1.0.4->dash) (0.4.6)\n"
     ]
    }
   ],
   "source": [
    "!pip install dash"
   ]
  },
  {
   "cell_type": "code",
   "execution_count": 24,
   "id": "ab4b5221",
   "metadata": {},
   "outputs": [
    {
     "name": "stderr",
     "output_type": "stream",
     "text": [
      "C:\\Users\\KIIT\\AppData\\Local\\Temp\\ipykernel_39468\\251688514.py:2: UserWarning: \n",
      "The dash_core_components package is deprecated. Please replace\n",
      "`import dash_core_components as dcc` with `from dash import dcc`\n",
      "  import dash_core_components as dcc\n",
      "C:\\Users\\KIIT\\AppData\\Local\\Temp\\ipykernel_39468\\251688514.py:3: UserWarning: \n",
      "The dash_html_components package is deprecated. Please replace\n",
      "`import dash_html_components as html` with `from dash import html`\n",
      "  import dash_html_components as html\n"
     ]
    }
   ],
   "source": [
    "import dash\n",
    "import dash_core_components as dcc\n",
    "import dash_html_components as html\n",
    "from dash.dependencies import Input, Output\n",
    "import plotly.express as px"
   ]
  },
  {
   "cell_type": "markdown",
   "id": "1d0973c3",
   "metadata": {},
   "source": [
    "### Initialize the Dash app"
   ]
  },
  {
   "cell_type": "code",
   "execution_count": 25,
   "id": "6d302243",
   "metadata": {},
   "outputs": [],
   "source": [
    "app = dash.Dash(__name__)"
   ]
  },
  {
   "cell_type": "markdown",
   "id": "1561c244",
   "metadata": {},
   "source": [
    "### Define the app layout"
   ]
  },
  {
   "cell_type": "code",
   "execution_count": 26,
   "id": "cb8bf445",
   "metadata": {},
   "outputs": [],
   "source": [
    "app = dash.Dash(__name__, suppress_callback_exceptions=True)"
   ]
  },
  {
   "cell_type": "code",
   "execution_count": 27,
   "id": "ee65e679",
   "metadata": {},
   "outputs": [],
   "source": [
    "app.layout = html.Div([\n",
    "    html.H1(\"PhonePe Transactions Dashboard\"),\n",
    "    dcc.Tabs(id='tabs', value='tab-1', children=[\n",
    "        dcc.Tab(label='Transactions by Category', value='tab-1'),\n",
    "        dcc.Tab(label='Transaction Amounts', value='tab-2'),\n",
    "        dcc.Tab(label='Summary', value='tab-3')\n",
    "    ]),\n",
    "    html.Div(id='tab-content'),\n",
    "    dcc.Dropdown(\n",
    "        id='dropdown-category',\n",
    "        options=[{'label': category, 'value': category} for category in df['Category'].unique()],\n",
    "        value=df['Category'].unique()[0],  # Set initial value\n",
    "    ),\n",
    "])"
   ]
  },
  {
   "cell_type": "markdown",
   "id": "9fe611d5",
   "metadata": {},
   "source": [
    "### Define callback for changing tabs and displaying content"
   ]
  },
  {
   "cell_type": "code",
   "execution_count": 28,
   "id": "535bf277",
   "metadata": {},
   "outputs": [],
   "source": [
    "@app.callback(\n",
    "    Output('tab-content', 'children'),\n",
    "    Input('tabs', 'value')\n",
    ")\n",
    "def render_content(tab):\n",
    "    if tab == 'tab-1':\n",
    "        return dcc.Graph(id='transaction-graph',\n",
    "                         config={'displayModeBar': False})\n",
    "    elif tab == 'tab-2':\n",
    "        return dcc.Graph(id='transaction-amounts',\n",
    "                         config={'displayModeBar': False})\n",
    "    elif tab == 'tab-3':\n",
    "        summary_df = df.groupby('Category').agg({'Count': 'sum'}).reset_index()\n",
    "        return dcc.Graph(id='summary-chart',\n",
    "                         config={'displayModeBar': False},\n",
    "                         figure=px.bar(summary_df, x='Category', y='Count',\n",
    "                                       title=\"Summary of Transaction Counts by Category\"))\n"
   ]
  },
  {
   "cell_type": "markdown",
   "id": "70d8f450",
   "metadata": {},
   "source": [
    "### Define callback for updating the first graph based on user input"
   ]
  },
  {
   "cell_type": "code",
   "execution_count": 29,
   "id": "18dea4d2",
   "metadata": {},
   "outputs": [],
   "source": [
    "@app.callback(\n",
    "    Output('transaction-graph', 'figure'),\n",
    "    Input('dropdown-category', 'value')\n",
    ")\n",
    "def update_graph(selected_category):\n",
    "    filtered_df = df[df['Category'] == selected_category]\n",
    "    fig = px.bar(filtered_df, x='Category', y='Count',\n",
    "                 title=f\"Count of Transactions by Category ({selected_category})\")\n",
    "    return fig"
   ]
  },
  {
   "cell_type": "markdown",
   "id": "20aac69e",
   "metadata": {},
   "source": [
    "### Define callback for updating the second graph based on user input"
   ]
  },
  {
   "cell_type": "code",
   "execution_count": 30,
   "id": "c398b7ad",
   "metadata": {},
   "outputs": [],
   "source": [
    "@app.callback(\n",
    "    Output('transaction-amounts', 'figure'),\n",
    "    Input('dropdown-category', 'value')\n",
    ")\n",
    "def update_amounts(selected_category):\n",
    "    filtered_df = df[df['Category'] == selected_category]\n",
    "    fig = px.bar(filtered_df, x='Category', y='Amount',\n",
    "                 title=f\"Transaction Amounts by Category ({selected_category})\")\n",
    "    return fig"
   ]
  },
  {
   "cell_type": "markdown",
   "id": "de7a36e2",
   "metadata": {},
   "source": [
    "### Run the app"
   ]
  },
  {
   "cell_type": "code",
   "execution_count": 31,
   "id": "87b50108",
   "metadata": {},
   "outputs": [
    {
     "data": {
      "text/html": [
       "\n",
       "        <iframe\n",
       "            width=\"100%\"\n",
       "            height=\"650\"\n",
       "            src=\"http://127.0.0.1:8050/\"\n",
       "            frameborder=\"0\"\n",
       "            allowfullscreen\n",
       "            \n",
       "        ></iframe>\n",
       "        "
      ],
      "text/plain": [
       "<IPython.lib.display.IFrame at 0x22ff8ca26e0>"
      ]
     },
     "metadata": {},
     "output_type": "display_data"
    }
   ],
   "source": [
    "if __name__ == '__main__':\n",
    "    app.run_server(debug=True)"
   ]
  },
  {
   "cell_type": "code",
   "execution_count": null,
   "id": "92662999",
   "metadata": {},
   "outputs": [],
   "source": []
  }
 ],
 "metadata": {
  "kernelspec": {
   "display_name": "Python 3 (ipykernel)",
   "language": "python",
   "name": "python3"
  },
  "language_info": {
   "codemirror_mode": {
    "name": "ipython",
    "version": 3
   },
   "file_extension": ".py",
   "mimetype": "text/x-python",
   "name": "python",
   "nbconvert_exporter": "python",
   "pygments_lexer": "ipython3",
   "version": "3.10.9"
  }
 },
 "nbformat": 4,
 "nbformat_minor": 5
}
